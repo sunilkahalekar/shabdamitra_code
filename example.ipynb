{
 "cells": [
  {
   "cell_type": "code",
   "execution_count": 1,
   "metadata": {},
   "outputs": [
    {
     "name": "stderr",
     "output_type": "stream",
     "text": [
      "2024-09-26:16:40:02,124 INFO     [helpers.py:20] Downloading IndoWordNet data of size ~31 MB...\n"
     ]
    },
    {
     "name": "stdout",
     "output_type": "stream",
     "text": [
      "[██████████████████████████████████████████████████]"
     ]
    },
    {
     "name": "stderr",
     "output_type": "stream",
     "text": [
      "2024-09-26:16:40:10,301 INFO     [helpers.py:43] Extracting C:\\Users\\ms101\\iwn_data.tar.gz into C:\\Users\\ms101...\n"
     ]
    },
    {
     "name": "stdout",
     "output_type": "stream",
     "text": [
      "\n"
     ]
    },
    {
     "name": "stderr",
     "output_type": "stream",
     "text": [
      "2024-09-26:16:40:10,879 INFO     [helpers.py:48] Removing temporary zip file from C:\\Users\\ms101\\iwn_data.tar.gz\n",
      "2024-09-26:16:40:10,885 INFO     [helpers.py:51] IndoWordNet data successfully downloaded at C:\\Users\\ms101\\iwn_data\n"
     ]
    }
   ],
   "source": [
    "import pyiwn"
   ]
  },
  {
   "cell_type": "markdown",
   "metadata": {},
   "source": [
    "### Supported Languages"
   ]
  },
  {
   "cell_type": "code",
   "execution_count": 40,
   "metadata": {},
   "outputs": [
    {
     "data": {
      "text/plain": [
       "['Language.ASSAMESE',\n",
       " 'Language.BENGALI',\n",
       " 'Language.BODO',\n",
       " 'Language.GUJARATI',\n",
       " 'Language.HINDI',\n",
       " 'Language.KANNADA',\n",
       " 'Language.KASHMIRI',\n",
       " 'Language.KONKANI',\n",
       " 'Language.MALAYALAM',\n",
       " 'Language.MARATHI',\n",
       " 'Language.MEITEI',\n",
       " 'Language.NEPALI',\n",
       " 'Language.ORIYA',\n",
       " 'Language.PUNJABI',\n",
       " 'Language.SANSKRIT',\n",
       " 'Language.TAMIL',\n",
       " 'Language.TELUGU',\n",
       " 'Language.URDU']"
      ]
     },
     "execution_count": 40,
     "metadata": {},
     "output_type": "execute_result"
    }
   ],
   "source": [
    "list(map(str, pyiwn.Language))"
   ]
  },
  {
   "cell_type": "markdown",
   "metadata": {},
   "source": [
    "### Create a IndoWordNet class instance"
   ]
  },
  {
   "cell_type": "code",
   "execution_count": 41,
   "metadata": {},
   "outputs": [
    {
     "name": "stderr",
     "output_type": "stream",
     "text": [
      "2024-09-26:16:44:00,587 INFO     [iwn.py:43] Loading hindi language synsets...\n",
      "2024-09-26:16:44:01,279 INFO     [iwn.py:43] Loading marathi language synsets...\n"
     ]
    }
   ],
   "source": [
    "# language defaults to Hindi\n",
    "iwn = pyiwn.IndoWordNet()\n",
    "\n",
    "# to use other language wordnet(s), use:\n",
    "iwn1 = pyiwn.IndoWordNet(lang=pyiwn.Language.MARATHI)"
   ]
  },
  {
   "cell_type": "markdown",
   "metadata": {},
   "source": [
    "### Words\n",
    "\n",
    "Look up a word using synsets(); this function has an optional pos argument which lets you constrain the part of speech of the word:"
   ]
  },
  {
   "cell_type": "code",
   "execution_count": 53,
   "metadata": {},
   "outputs": [],
   "source": [
    "aam_all_synsets = iwn.synsets('आम')"
   ]
  },
  {
   "cell_type": "code",
   "execution_count": 54,
   "metadata": {},
   "outputs": [],
   "source": [
    "aam_all_synsets_m = iwn1.synsets('आंबा')"
   ]
  },
  {
   "cell_type": "code",
   "execution_count": 55,
   "metadata": {},
   "outputs": [
    {
     "data": {
      "text/plain": [
       "[Synset('कच्चा.adjective.2283'),\n",
       " Synset('अधपका.adjective.2697'),\n",
       " Synset('आम.noun.3462'),\n",
       " Synset('आम.noun.3463'),\n",
       " Synset('सामान्य.adjective.3468'),\n",
       " Synset('सामूहिक.adjective.3469'),\n",
       " Synset('आँव.noun.6253'),\n",
       " Synset('आँव.noun.8446'),\n",
       " Synset('आम.adjective.39736')]"
      ]
     },
     "execution_count": 55,
     "metadata": {},
     "output_type": "execute_result"
    }
   ],
   "source": [
    "aam_all_synsets"
   ]
  },
  {
   "cell_type": "code",
   "execution_count": 56,
   "metadata": {},
   "outputs": [
    {
     "data": {
      "text/plain": [
       "[Synset('आंबा.noun.3462'), Synset('आंबा.noun.3463')]"
      ]
     },
     "execution_count": 56,
     "metadata": {},
     "output_type": "execute_result"
    }
   ],
   "source": [
    "aam_all_synsets_m"
   ]
  },
  {
   "cell_type": "markdown",
   "metadata": {},
   "source": [
    "### Lookup synsets with POS tag"
   ]
  },
  {
   "cell_type": "code",
   "execution_count": 57,
   "metadata": {},
   "outputs": [
    {
     "data": {
      "text/plain": [
       "['PosTag.NOUN', 'PosTag.VERB', 'PosTag.ADVERB', 'PosTag.ADJECTIVE']"
      ]
     },
     "execution_count": 57,
     "metadata": {},
     "output_type": "execute_result"
    }
   ],
   "source": [
    "# POS\n",
    "list(map(str, pyiwn.PosTag))"
   ]
  },
  {
   "cell_type": "code",
   "execution_count": 58,
   "metadata": {},
   "outputs": [],
   "source": [
    "aam_synsets = iwn.synsets('आम', pos=pyiwn.PosTag.NOUN)"
   ]
  },
  {
   "cell_type": "code",
   "execution_count": 48,
   "metadata": {},
   "outputs": [
    {
     "data": {
      "text/plain": [
       "[Synset('आम.noun.3462'),\n",
       " Synset('आम.noun.3463'),\n",
       " Synset('आँव.noun.6253'),\n",
       " Synset('आँव.noun.8446')]"
      ]
     },
     "execution_count": 48,
     "metadata": {},
     "output_type": "execute_result"
    }
   ],
   "source": [
    "aam_synsets"
   ]
  },
  {
   "cell_type": "code",
   "execution_count": 59,
   "metadata": {},
   "outputs": [],
   "source": [
    "aam_synsets_1 = iwn1.synsets('आंबा', pos=pyiwn.PosTag.NOUN)"
   ]
  },
  {
   "cell_type": "code",
   "execution_count": 60,
   "metadata": {},
   "outputs": [
    {
     "data": {
      "text/plain": [
       "[Synset('आंबा.noun.3462'), Synset('आंबा.noun.3463')]"
      ]
     },
     "execution_count": 60,
     "metadata": {},
     "output_type": "execute_result"
    }
   ],
   "source": [
    "aam_synsets_1"
   ]
  },
  {
   "cell_type": "markdown",
   "metadata": {},
   "source": [
    "### Synsets"
   ]
  },
  {
   "cell_type": "code",
   "execution_count": 16,
   "metadata": {},
   "outputs": [],
   "source": [
    "# let's select the first synset of 'आम'\n",
    "aam = aam_synsets[0]"
   ]
  },
  {
   "cell_type": "code",
   "execution_count": 61,
   "metadata": {},
   "outputs": [],
   "source": [
    "# let's select the first synset of ''\n",
    "aam_1 = aam_synsets_1[0]"
   ]
  },
  {
   "cell_type": "code",
   "execution_count": 62,
   "metadata": {},
   "outputs": [
    {
     "data": {
      "text/plain": [
       "Synset('आ.noun.33411')"
      ]
     },
     "execution_count": 62,
     "metadata": {},
     "output_type": "execute_result"
    }
   ],
   "source": [
    "aam"
   ]
  },
  {
   "cell_type": "code",
   "execution_count": 63,
   "metadata": {},
   "outputs": [
    {
     "data": {
      "text/plain": [
       "Synset('आंबा.noun.3462')"
      ]
     },
     "execution_count": 63,
     "metadata": {},
     "output_type": "execute_result"
    }
   ],
   "source": [
    "aam_1"
   ]
  },
  {
   "cell_type": "code",
   "execution_count": 64,
   "metadata": {},
   "outputs": [
    {
     "data": {
      "text/plain": [
       "33411"
      ]
     },
     "execution_count": 64,
     "metadata": {},
     "output_type": "execute_result"
    }
   ],
   "source": [
    "# Synset ID\n",
    "aam.synset_id()"
   ]
  },
  {
   "cell_type": "code",
   "execution_count": 65,
   "metadata": {},
   "outputs": [
    {
     "data": {
      "text/plain": [
       "3462"
      ]
     },
     "execution_count": 65,
     "metadata": {},
     "output_type": "execute_result"
    }
   ],
   "source": [
    "# Synset ID\n",
    "aam_1.synset_id()"
   ]
  },
  {
   "cell_type": "code",
   "execution_count": 19,
   "metadata": {},
   "outputs": [
    {
     "data": {
      "text/plain": [
       "'आ'"
      ]
     },
     "execution_count": 19,
     "metadata": {},
     "output_type": "execute_result"
    }
   ],
   "source": [
    "# Head word of the synset\n",
    "aam.head_word()"
   ]
  },
  {
   "cell_type": "code",
   "execution_count": 66,
   "metadata": {},
   "outputs": [
    {
     "data": {
      "text/plain": [
       "'आंबा'"
      ]
     },
     "execution_count": 66,
     "metadata": {},
     "output_type": "execute_result"
    }
   ],
   "source": [
    "# Head word of the synset\n",
    "aam_1.head_word()"
   ]
  },
  {
   "cell_type": "code",
   "execution_count": 67,
   "metadata": {},
   "outputs": [
    {
     "data": {
      "text/plain": [
       "['आ', 'स्वराक्षर आ', 'स्वर अक्षर आ']"
      ]
     },
     "execution_count": 67,
     "metadata": {},
     "output_type": "execute_result"
    }
   ],
   "source": [
    "# list of string lemmas in the synset\n",
    "aam.lemma_names()"
   ]
  },
  {
   "cell_type": "code",
   "execution_count": 68,
   "metadata": {},
   "outputs": [
    {
     "data": {
      "text/plain": [
       "['आंबा', 'आम्र']"
      ]
     },
     "execution_count": 68,
     "metadata": {},
     "output_type": "execute_result"
    }
   ],
   "source": [
    "# list of string lemmas in the synset\n",
    "aam_1.lemma_names()"
   ]
  },
  {
   "cell_type": "code",
   "execution_count": 69,
   "metadata": {},
   "outputs": [
    {
     "data": {
      "text/plain": [
       "[Lemma('आ.noun.33411.आ'),\n",
       " Lemma('आ.noun.33411.स्वराक्षर आ'),\n",
       " Lemma('आ.noun.33411.स्वर अक्षर आ')]"
      ]
     },
     "execution_count": 69,
     "metadata": {},
     "output_type": "execute_result"
    }
   ],
   "source": [
    "# list of Lemma type in the synset\n",
    "aam.lemmas()"
   ]
  },
  {
   "cell_type": "code",
   "execution_count": 71,
   "metadata": {},
   "outputs": [
    {
     "data": {
      "text/plain": [
       "[Lemma('आंबा.noun.3462.आंबा'), Lemma('आंबा.noun.3462.आम्र')]"
      ]
     },
     "execution_count": 71,
     "metadata": {},
     "output_type": "execute_result"
    }
   ],
   "source": [
    "# list of Lemma type in the synset\n",
    "aam_1.lemmas()"
   ]
  },
  {
   "cell_type": "code",
   "execution_count": 72,
   "metadata": {},
   "outputs": [
    {
     "data": {
      "text/plain": [
       "'noun'"
      ]
     },
     "execution_count": 72,
     "metadata": {},
     "output_type": "execute_result"
    }
   ],
   "source": [
    "# POS tag of the synset\n",
    "aam.pos()"
   ]
  },
  {
   "cell_type": "code",
   "execution_count": 73,
   "metadata": {},
   "outputs": [
    {
     "data": {
      "text/plain": [
       "'noun'"
      ]
     },
     "execution_count": 73,
     "metadata": {},
     "output_type": "execute_result"
    }
   ],
   "source": [
    "# POS tag of the synset\n",
    "aam_1.pos()"
   ]
  },
  {
   "cell_type": "code",
   "execution_count": 74,
   "metadata": {},
   "outputs": [
    {
     "data": {
      "text/plain": [
       "'हिंदी वर्णमाला का दूसरा अक्षर जिसे अ का दीर्घ रूप माना जाता है'"
      ]
     },
     "execution_count": 74,
     "metadata": {},
     "output_type": "execute_result"
    }
   ],
   "source": [
    "# gloss / definition of the synset\n",
    "aam.gloss()"
   ]
  },
  {
   "cell_type": "code",
   "execution_count": 75,
   "metadata": {},
   "outputs": [
    {
     "data": {
      "text/plain": [
       "'चोखून किंवा कापून खावयाचे एक प्रसिद्ध फळ'"
      ]
     },
     "execution_count": 75,
     "metadata": {},
     "output_type": "execute_result"
    }
   ],
   "source": [
    "# gloss / definition of the synset\n",
    "aam_1.gloss()"
   ]
  },
  {
   "cell_type": "code",
   "execution_count": 76,
   "metadata": {},
   "outputs": [
    {
     "data": {
      "text/plain": [
       "['आ का प्रयोग विशेषता आदि प्रदान करने के लिए उपसर्ग के रूप में होता है ।']"
      ]
     },
     "execution_count": 76,
     "metadata": {},
     "output_type": "execute_result"
    }
   ],
   "source": [
    "# examples of the synset\n",
    "aam.examples()"
   ]
  },
  {
   "cell_type": "code",
   "execution_count": 77,
   "metadata": {},
   "outputs": [
    {
     "data": {
      "text/plain": [
       "['आंबा हा फळांचा राजा आहे']"
      ]
     },
     "execution_count": 77,
     "metadata": {},
     "output_type": "execute_result"
    }
   ],
   "source": [
    "# examples of the synset\n",
    "aam_1.examples()"
   ]
  },
  {
   "cell_type": "markdown",
   "metadata": {},
   "source": [
    "### Lemma"
   ]
  },
  {
   "cell_type": "code",
   "execution_count": 85,
   "metadata": {},
   "outputs": [],
   "source": [
    "# let's select first lemma of the 'aam' synset\n",
    "aam_lemma = aam.lemmas()[0]"
   ]
  },
  {
   "cell_type": "code",
   "execution_count": 86,
   "metadata": {},
   "outputs": [],
   "source": [
    "# let's select first lemma of the 'aam' synset\n",
    "aam_lemma_1 = aam_1.lemmas()[0]"
   ]
  },
  {
   "cell_type": "code",
   "execution_count": 87,
   "metadata": {},
   "outputs": [
    {
     "data": {
      "text/plain": [
       "Lemma('आ.noun.33411.आ')"
      ]
     },
     "execution_count": 87,
     "metadata": {},
     "output_type": "execute_result"
    }
   ],
   "source": [
    "aam_lemma"
   ]
  },
  {
   "cell_type": "code",
   "execution_count": 88,
   "metadata": {},
   "outputs": [
    {
     "data": {
      "text/plain": [
       "Lemma('आंबा.noun.3462.आंबा')"
      ]
     },
     "execution_count": 88,
     "metadata": {},
     "output_type": "execute_result"
    }
   ],
   "source": [
    "aam_lemma_1"
   ]
  },
  {
   "cell_type": "code",
   "execution_count": 89,
   "metadata": {},
   "outputs": [
    {
     "data": {
      "text/plain": [
       "'आ'"
      ]
     },
     "execution_count": 89,
     "metadata": {},
     "output_type": "execute_result"
    }
   ],
   "source": [
    "aam_lemma.name()"
   ]
  },
  {
   "cell_type": "code",
   "execution_count": 90,
   "metadata": {},
   "outputs": [
    {
     "data": {
      "text/plain": [
       "'आंबा'"
      ]
     },
     "execution_count": 90,
     "metadata": {},
     "output_type": "execute_result"
    }
   ],
   "source": [
    "aam_lemma_1.name()"
   ]
  },
  {
   "cell_type": "code",
   "execution_count": 27,
   "metadata": {},
   "outputs": [
    {
     "data": {
      "text/plain": [
       "Synset('आ.noun.33411')"
      ]
     },
     "execution_count": 27,
     "metadata": {},
     "output_type": "execute_result"
    }
   ],
   "source": [
    "aam_lemma.synset()"
   ]
  },
  {
   "cell_type": "code",
   "execution_count": 91,
   "metadata": {},
   "outputs": [
    {
     "data": {
      "text/plain": [
       "Synset('आंबा.noun.3462')"
      ]
     },
     "execution_count": 91,
     "metadata": {},
     "output_type": "execute_result"
    }
   ],
   "source": [
    "aam_lemma_1.synset()"
   ]
  },
  {
   "cell_type": "markdown",
   "metadata": {},
   "source": [
    "### All synsets"
   ]
  },
  {
   "cell_type": "code",
   "execution_count": 92,
   "metadata": {},
   "outputs": [],
   "source": [
    "synsets = iwn.all_synsets()"
   ]
  },
  {
   "cell_type": "code",
   "execution_count": 93,
   "metadata": {},
   "outputs": [],
   "source": [
    "synsets_1 = iwn1.all_synsets()"
   ]
  },
  {
   "cell_type": "code",
   "execution_count": 94,
   "metadata": {},
   "outputs": [
    {
     "data": {
      "text/plain": [
       "40360"
      ]
     },
     "execution_count": 94,
     "metadata": {},
     "output_type": "execute_result"
    }
   ],
   "source": [
    "len(synsets)"
   ]
  },
  {
   "cell_type": "code",
   "execution_count": 95,
   "metadata": {},
   "outputs": [
    {
     "data": {
      "text/plain": [
       "32200"
      ]
     },
     "execution_count": 95,
     "metadata": {},
     "output_type": "execute_result"
    }
   ],
   "source": [
    "len(synsets_1)"
   ]
  },
  {
   "cell_type": "code",
   "execution_count": 96,
   "metadata": {},
   "outputs": [
    {
     "data": {
      "text/plain": [
       "[Synset('अजन्मा.adjective.1'),\n",
       " Synset('स्वयंभू.adjective.30168'),\n",
       " Synset('अशुभ.adjective.2'),\n",
       " Synset('अप्रविष्ट.adjective.3'),\n",
       " Synset('पवित्र स्थान.noun.4')]"
      ]
     },
     "execution_count": 96,
     "metadata": {},
     "output_type": "execute_result"
    }
   ],
   "source": [
    "synsets[:5]"
   ]
  },
  {
   "cell_type": "code",
   "execution_count": 97,
   "metadata": {},
   "outputs": [
    {
     "data": {
      "text/plain": [
       "[Synset('शिवालय.noun.5'),\n",
       " Synset('अजन्मा.adjective.1'),\n",
       " Synset('आलेला.adjective.7'),\n",
       " Synset('अशुभ.adjective.2'),\n",
       " Synset('उत्पादित.adjective.10')]"
      ]
     },
     "execution_count": 97,
     "metadata": {},
     "output_type": "execute_result"
    }
   ],
   "source": [
    "synsets_1[:5]"
   ]
  },
  {
   "cell_type": "markdown",
   "metadata": {},
   "source": [
    "### All synsets filtered with POS tag"
   ]
  },
  {
   "cell_type": "code",
   "execution_count": 98,
   "metadata": {},
   "outputs": [],
   "source": [
    "noun_synsets = iwn.all_synsets(pos=pyiwn.PosTag.NOUN)"
   ]
  },
  {
   "cell_type": "code",
   "execution_count": 99,
   "metadata": {},
   "outputs": [],
   "source": [
    "noun_synsets_1 = iwn1.all_synsets(pos=pyiwn.PosTag.NOUN)"
   ]
  },
  {
   "cell_type": "code",
   "execution_count": 100,
   "metadata": {},
   "outputs": [
    {
     "data": {
      "text/plain": [
       "29846"
      ]
     },
     "execution_count": 100,
     "metadata": {},
     "output_type": "execute_result"
    }
   ],
   "source": [
    "len(noun_synsets)"
   ]
  },
  {
   "cell_type": "code",
   "execution_count": 101,
   "metadata": {},
   "outputs": [
    {
     "data": {
      "text/plain": [
       "23249"
      ]
     },
     "execution_count": 101,
     "metadata": {},
     "output_type": "execute_result"
    }
   ],
   "source": [
    "len(noun_synsets_1)"
   ]
  },
  {
   "cell_type": "code",
   "execution_count": 102,
   "metadata": {},
   "outputs": [
    {
     "data": {
      "text/plain": [
       "[Synset('पवित्र स्थान.noun.4'),\n",
       " Synset('शिवालय.noun.5'),\n",
       " Synset('अपवित्र स्थान.noun.6'),\n",
       " Synset('नैतिक कार्य.noun.9'),\n",
       " Synset('दुश्चरित्रता.noun.11')]"
      ]
     },
     "execution_count": 102,
     "metadata": {},
     "output_type": "execute_result"
    }
   ],
   "source": [
    "noun_synsets[:5]"
   ]
  },
  {
   "cell_type": "code",
   "execution_count": 103,
   "metadata": {},
   "outputs": [
    {
     "data": {
      "text/plain": [
       "[Synset('शिवालय.noun.5'),\n",
       " Synset('शिष्टपणा.noun.12'),\n",
       " Synset('अत्याचार.noun.13'),\n",
       " Synset('घोटाळा.noun.14'),\n",
       " Synset('जीवनसत्त्व.noun.15')]"
      ]
     },
     "execution_count": 103,
     "metadata": {},
     "output_type": "execute_result"
    }
   ],
   "source": [
    "noun_synsets_1[:5]"
   ]
  },
  {
   "cell_type": "markdown",
   "metadata": {},
   "source": [
    "### Words in a language's WordNet"
   ]
  },
  {
   "cell_type": "code",
   "execution_count": 104,
   "metadata": {},
   "outputs": [],
   "source": [
    "words = iwn.all_words()"
   ]
  },
  {
   "cell_type": "code",
   "execution_count": 105,
   "metadata": {},
   "outputs": [],
   "source": [
    "words_1 = iwn1.all_words()"
   ]
  },
  {
   "cell_type": "code",
   "execution_count": 106,
   "metadata": {},
   "outputs": [
    {
     "data": {
      "text/plain": [
       "105458"
      ]
     },
     "execution_count": 106,
     "metadata": {},
     "output_type": "execute_result"
    }
   ],
   "source": [
    "len(words)"
   ]
  },
  {
   "cell_type": "code",
   "execution_count": 107,
   "metadata": {},
   "outputs": [
    {
     "data": {
      "text/plain": [
       "43872"
      ]
     },
     "execution_count": 107,
     "metadata": {},
     "output_type": "execute_result"
    }
   ],
   "source": [
    "len(words_1)"
   ]
  },
  {
   "cell_type": "code",
   "execution_count": 108,
   "metadata": {},
   "outputs": [
    {
     "data": {
      "text/plain": [
       "['अजन्मा', 'अजात', 'अनुत्पन्न', 'अनुद्भूत', 'अप्रादुर्भूत']"
      ]
     },
     "execution_count": 108,
     "metadata": {},
     "output_type": "execute_result"
    }
   ],
   "source": [
    "words[:5]"
   ]
  },
  {
   "cell_type": "code",
   "execution_count": 109,
   "metadata": {},
   "outputs": [
    {
     "data": {
      "text/plain": [
       "['शिवालय', 'शिवमंदिर', 'अजन्मा', 'आलेला', 'आगत']"
      ]
     },
     "execution_count": 109,
     "metadata": {},
     "output_type": "execute_result"
    }
   ],
   "source": [
    "words_1[:5]"
   ]
  },
  {
   "cell_type": "markdown",
   "metadata": {},
   "source": [
    "### Words filtered by POS Tag"
   ]
  },
  {
   "cell_type": "code",
   "execution_count": 37,
   "metadata": {},
   "outputs": [],
   "source": [
    "noun_words = iwn.all_words(pos=pyiwn.PosTag.NOUN)"
   ]
  },
  {
   "cell_type": "code",
   "execution_count": 110,
   "metadata": {},
   "outputs": [],
   "source": [
    "noun_words_1 = iwn1.all_words(pos=pyiwn.PosTag.NOUN)"
   ]
  },
  {
   "cell_type": "code",
   "execution_count": 111,
   "metadata": {},
   "outputs": [
    {
     "data": {
      "text/plain": [
       "82747"
      ]
     },
     "execution_count": 111,
     "metadata": {},
     "output_type": "execute_result"
    }
   ],
   "source": [
    "len(noun_words)"
   ]
  },
  {
   "cell_type": "code",
   "execution_count": 112,
   "metadata": {},
   "outputs": [
    {
     "data": {
      "text/plain": [
       "32294"
      ]
     },
     "execution_count": 112,
     "metadata": {},
     "output_type": "execute_result"
    }
   ],
   "source": [
    "len(noun_words_1)"
   ]
  },
  {
   "cell_type": "code",
   "execution_count": 113,
   "metadata": {},
   "outputs": [
    {
     "data": {
      "text/plain": [
       "['आसुरीसम्पत्', 'अंश ग्रहण', 'संकेतन', 'नीलपिंगला', 'मीनाक्षी']"
      ]
     },
     "execution_count": 113,
     "metadata": {},
     "output_type": "execute_result"
    }
   ],
   "source": [
    "noun_words[:5]"
   ]
  },
  {
   "cell_type": "code",
   "execution_count": 114,
   "metadata": {},
   "outputs": [
    {
     "data": {
      "text/plain": [
       "['शेहेचाळीस', 'सुवर्ण काळ', 'मीनाक्षी', 'माफीचा साक्षीदार', 'गालव ऋषी']"
      ]
     },
     "execution_count": 114,
     "metadata": {},
     "output_type": "execute_result"
    }
   ],
   "source": [
    "noun_words_1[:5]"
   ]
  },
  {
   "cell_type": "markdown",
   "metadata": {},
   "source": [
    "### Synset Relations"
   ]
  },
  {
   "cell_type": "code",
   "execution_count": 127,
   "metadata": {},
   "outputs": [],
   "source": [
    "hyponyms = iwn.synset_relation(aam, pyiwn.SynsetRelations.HYPONYMY)"
   ]
  },
  {
   "cell_type": "code",
   "execution_count": 128,
   "metadata": {},
   "outputs": [],
   "source": [
    "hyponyms_1 = iwn1.synset_relation(aam_1, pyiwn.SynsetRelations.HYPONYMY)"
   ]
  },
  {
   "cell_type": "code",
   "execution_count": 129,
   "metadata": {},
   "outputs": [
    {
     "data": {
      "text/plain": [
       "0"
      ]
     },
     "execution_count": 129,
     "metadata": {},
     "output_type": "execute_result"
    }
   ],
   "source": [
    "len(hyponyms)"
   ]
  },
  {
   "cell_type": "code",
   "execution_count": 130,
   "metadata": {},
   "outputs": [
    {
     "data": {
      "text/plain": [
       "77"
      ]
     },
     "execution_count": 130,
     "metadata": {},
     "output_type": "execute_result"
    }
   ],
   "source": [
    "len(hyponyms_1)"
   ]
  },
  {
   "cell_type": "code",
   "execution_count": 131,
   "metadata": {},
   "outputs": [
    {
     "data": {
      "text/plain": [
       "[]"
      ]
     },
     "execution_count": 131,
     "metadata": {},
     "output_type": "execute_result"
    }
   ],
   "source": [
    "hyponyms[:5]"
   ]
  },
  {
   "cell_type": "code",
   "execution_count": 132,
   "metadata": {},
   "outputs": [
    {
     "data": {
      "text/plain": [
       "[Synset('बाळांबा.noun.2888'),\n",
       " Synset('चौसा.noun.21309'),\n",
       " Synset('सिंदूरिया आंबा.noun.8636'),\n",
       " Synset('सेसिल.noun.21602'),\n",
       " Synset('सैगॉन.noun.21604')]"
      ]
     },
     "execution_count": 132,
     "metadata": {},
     "output_type": "execute_result"
    }
   ],
   "source": [
    "hyponyms_1[:5]"
   ]
  },
  {
   "cell_type": "markdown",
   "metadata": {},
   "source": [
    "### Supported Synset Relations"
   ]
  },
  {
   "cell_type": "code",
   "execution_count": 133,
   "metadata": {},
   "outputs": [
    {
     "data": {
      "text/plain": [
       "['SynsetRelations.MERO_MEMBER_COLLECTION',\n",
       " 'SynsetRelations.ABILITY_VERB',\n",
       " 'SynsetRelations.CAUSATIVE',\n",
       " 'SynsetRelations.CAPABILITY_VERB',\n",
       " 'SynsetRelations.MERO_COMPONENT_OBJECT',\n",
       " 'SynsetRelations.HOLO_PORTION_MASS',\n",
       " 'SynsetRelations.FUNCTION_VERB',\n",
       " 'SynsetRelations.HOLO_COMPONENT_OBJECT',\n",
       " 'SynsetRelations.HYPERNYMY',\n",
       " 'SynsetRelations.ENTAILMENT',\n",
       " 'SynsetRelations.ALSO_SEE',\n",
       " 'SynsetRelations.MERO_FEATURE_ACTIVITY',\n",
       " 'SynsetRelations.HOLO_PLACE_AREA',\n",
       " 'SynsetRelations.MODIFIES_VERB',\n",
       " 'SynsetRelations.ATTRIBUTES',\n",
       " 'SynsetRelations.MERO_PORTION_MASS',\n",
       " 'SynsetRelations.MODIFIES_NOUN',\n",
       " 'SynsetRelations.HOLO_FEATURE_ACTIVITY',\n",
       " 'SynsetRelations.MERO_STUFF_OBJECT',\n",
       " 'SynsetRelations.TROPONYMY',\n",
       " 'SynsetRelations.MERO_PLACE_AREA',\n",
       " 'SynsetRelations.HOLO_MEMBER_COLLECTION',\n",
       " 'SynsetRelations.HYPONYMY',\n",
       " 'SynsetRelations.SIMILAR',\n",
       " 'SynsetRelations.MERO_POSITION_AREA',\n",
       " 'SynsetRelations.HOLO_POSITION_AREA',\n",
       " 'SynsetRelations.HOLO_STUFF_OBJECT']"
      ]
     },
     "execution_count": 133,
     "metadata": {},
     "output_type": "execute_result"
    }
   ],
   "source": [
    "list(map(str, pyiwn.SynsetRelations))"
   ]
  },
  {
   "cell_type": "markdown",
   "metadata": {},
   "source": [
    "### Other language WordNet"
   ]
  },
  {
   "cell_type": "code",
   "execution_count": 134,
   "metadata": {},
   "outputs": [
    {
     "name": "stderr",
     "output_type": "stream",
     "text": [
      "2024-09-26:17:03:01,401 INFO     [iwn.py:43] Loading kannada language synsets...\n"
     ]
    }
   ],
   "source": [
    "kannada_iwn = pyiwn.IndoWordNet(lang=pyiwn.Language.KANNADA)"
   ]
  },
  {
   "cell_type": "code",
   "execution_count": 135,
   "metadata": {},
   "outputs": [
    {
     "name": "stdout",
     "output_type": "stream",
     "text": [
      "[Synset('ಮನುಷ್ಯ.noun.196'), Synset('ಮಾನವ.noun.858'), Synset('ಮಾನವ.noun.3389'), Synset('ಮನುಷ್ಯ.noun.22862')]\n"
     ]
    }
   ],
   "source": [
    "print(kannada_iwn.synsets('ಮಾನವ'))"
   ]
  },
  {
   "cell_type": "code",
   "execution_count": 136,
   "metadata": {},
   "outputs": [
    {
     "name": "stdout",
     "output_type": "stream",
     "text": [
      "[Synset('ಗುಡುಗುಡು.noun.37371')]\n"
     ]
    }
   ],
   "source": [
    "print(kannada_iwn.synsets('ಗುಡುಗುಡು'))"
   ]
  },
  {
   "cell_type": "code",
   "execution_count": null,
   "metadata": {},
   "outputs": [],
   "source": []
  },
  {
   "cell_type": "code",
   "execution_count": null,
   "metadata": {},
   "outputs": [],
   "source": []
  },
  {
   "cell_type": "code",
   "execution_count": null,
   "metadata": {},
   "outputs": [],
   "source": []
  }
 ],
 "metadata": {
  "kernelspec": {
   "display_name": "Python 3",
   "language": "python",
   "name": "python3"
  },
  "language_info": {
   "codemirror_mode": {
    "name": "ipython",
    "version": 3
   },
   "file_extension": ".py",
   "mimetype": "text/x-python",
   "name": "python",
   "nbconvert_exporter": "python",
   "pygments_lexer": "ipython3",
   "version": "3.9.20"
  }
 },
 "nbformat": 4,
 "nbformat_minor": 4
}
